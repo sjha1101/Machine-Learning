{
 "cells": [
  {
   "cell_type": "code",
   "execution_count": 16,
   "id": "2474eebe-d1bc-428b-8b0a-b6a94be755aa",
   "metadata": {},
   "outputs": [
    {
     "name": "stdout",
     "output_type": "stream",
     "text": [
      "[[125 128 451 451]]\n"
     ]
    }
   ],
   "source": [
    "#Object detection from the image\n",
    "#face for single face\n",
    "import cv2\n",
    "#load the pre-trained face detector(haar cascade)\n",
    "face_cascade=cv2.CascadeClassifier('haarcascade_frontalface_default.xml')\n",
    "#Read image\n",
    "img=cv2.imread('person.jpg')\n",
    "gray_scale=(cv2.cvtColor(img,cv2.COLOR_BGR2GRAY)) #haar cascade works on single color channel.\n",
    "#Detect faces\n",
    "faces=face_cascade.detectMultiScale(gray_scale,scaleFactor=1.1,minNeighbors=6)\n",
    "print(faces)\n",
    "#Draw rectangles around the faces\n",
    "for(x,y,w,h) in faces:\n",
    "    cv2.rectangle(img,(x,y),(x+w,y+h),(0,255,0),3)\n",
    "cv2.imshow('Face Detector',img)\n",
    "cv2.waitKey()\n",
    "cv2.destroyAllWindows()"
   ]
  },
  {
   "cell_type": "code",
   "execution_count": 15,
   "id": "77d738fa-2fd8-41cc-9dfe-e753a04cc8e4",
   "metadata": {},
   "outputs": [
    {
     "name": "stdout",
     "output_type": "stream",
     "text": [
      "[[ 13 247 139 139]\n",
      " [313 254 120 120]\n",
      " [ 25 438 125 125]\n",
      " [168 264 112 112]\n",
      " [315 439 129 129]\n",
      " [167 438 138 138]\n",
      " [ 21  59 117 117]\n",
      " [302  54 138 138]\n",
      " [164  42 121 121]]\n"
     ]
    }
   ],
   "source": [
    "#face on multiple faces\n",
    "import cv2\n",
    "#load the pre-trained face detector(haar cascade)\n",
    "face_cascade=cv2.CascadeClassifier('haarcascade_frontalface_default.xml')\n",
    "#Read image\n",
    "img=cv2.imread('multiple.jpg')\n",
    "gray_scale=(cv2.cvtColor(img,cv2.COLOR_BGR2GRAY)) #haar cascade works on single color channel.\n",
    "#Detect faces\n",
    "faces=face_cascade.detectMultiScale(gray_scale,scaleFactor=1.1,minNeighbors=1)\n",
    "print(faces)\n",
    "#Draw rectangles around the faces\n",
    "for(x,y,w,h) in faces:\n",
    "    cv2.rectangle(img,(x,y),(x+w,y+h),(0,255,0),3)\n",
    "cv2.imshow('Face Detector',img)\n",
    "cv2.waitKey()\n",
    "cv2.destroyAllWindows()"
   ]
  },
  {
   "cell_type": "code",
   "execution_count": 19,
   "id": "6cb7eb5c-2847-4847-abf9-4f7c72b60288",
   "metadata": {},
   "outputs": [
    {
     "name": "stdout",
     "output_type": "stream",
     "text": [
      "[[144 151 411 411]]\n"
     ]
    }
   ],
   "source": [
    "#object detection from the camera(live)\n",
    "\n",
    "import cv2\n",
    "#load the pre-trained face detector(haar cascade)\n",
    "face_cascade=cv2.CascadeClassifier('haarcascade_frontalface_default.xml')\n",
    "#openc the camera (0 for in-built camera, 1 for external camera)\n",
    "cap=cv2.VideoCapture(0)\n",
    "#capture the footage from camera\n",
    "while True:\n",
    "    #Capture frame by frame\n",
    "    ret,frame=cap.read()\n",
    "    if not ret:\n",
    "        break #if camera is not working\n",
    "#convert to gray scale\n",
    "gray_scale=(cv2.cvtColor(img,cv2.COLOR_BGR2GRAY)) #haar cascade works on single color channel.\n",
    "#Detect faces\n",
    "faces=face_cascade.detectMultiScale(gray_scale,scaleFactor=1.1,minNeighbors=1)\n",
    "print(faces)\n",
    "#Draw rectangles around the faces\n",
    "for(x,y,w,h) in faces:\n",
    "    cv2.rectangle(img,(x,y),(x+w,y+h),(0,255,0),3)\n",
    "cv2.imshow('Face Detector',img)\n",
    "\n",
    "#Close the camera by pressing the esc\n",
    "if cv2.waitKey(1)==27:\n",
    "    break\n",
    "cv2.destroyAllWindows()"
   ]
  },
  {
   "cell_type": "code",
   "execution_count": null,
   "id": "fda0584f-0d76-4cbc-a4aa-fe521ab17c1e",
   "metadata": {},
   "outputs": [],
   "source": []
  }
 ],
 "metadata": {
  "kernelspec": {
   "display_name": "Python 3 (ipykernel)",
   "language": "python",
   "name": "python3"
  },
  "language_info": {
   "codemirror_mode": {
    "name": "ipython",
    "version": 3
   },
   "file_extension": ".py",
   "mimetype": "text/x-python",
   "name": "python",
   "nbconvert_exporter": "python",
   "pygments_lexer": "ipython3",
   "version": "3.10.2"
  }
 },
 "nbformat": 4,
 "nbformat_minor": 5
}
