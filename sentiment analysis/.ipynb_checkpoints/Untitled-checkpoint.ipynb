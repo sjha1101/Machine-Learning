{
 "cells": [
  {
   "cell_type": "code",
   "execution_count": 3,
   "id": "b5742ebc-ff87-42ea-a0e9-8e410c86b773",
   "metadata": {},
   "outputs": [
    {
     "name": "stderr",
     "output_type": "stream",
     "text": [
      "[nltk_data] Downloading package vader_lexicon to\n",
      "[nltk_data]     C:\\Users\\atmiya\\AppData\\Roaming\\nltk_data...\n",
      "[nltk_data]   Package vader_lexicon is already up-to-date!\n"
     ]
    },
    {
     "data": {
      "text/plain": [
       "True"
      ]
     },
     "execution_count": 3,
     "metadata": {},
     "output_type": "execute_result"
    }
   ],
   "source": [
    "#sentiemnt analysis\n",
    "#pip install nltk\n",
    "import nltk\n",
    "nltk.download('vader_lexicon')"
   ]
  },
  {
   "cell_type": "code",
   "execution_count": 4,
   "id": "bce7f60f-964a-4ec3-b495-88ce5f77c6dc",
   "metadata": {},
   "outputs": [
    {
     "ename": "ImportError",
     "evalue": "cannot import name 'SentimentIntensitAnalyzer' from 'nltk.sentiment.vader' (C:\\Users\\atmiya\\AppData\\Local\\Programs\\Python\\Python310\\lib\\site-packages\\nltk\\sentiment\\vader.py)",
     "output_type": "error",
     "traceback": [
      "\u001b[1;31m---------------------------------------------------------------------------\u001b[0m",
      "\u001b[1;31mImportError\u001b[0m                               Traceback (most recent call last)",
      "Cell \u001b[1;32mIn[4], line 2\u001b[0m\n\u001b[0;32m      1\u001b[0m \u001b[38;5;66;03m#Continue from the above line of code\u001b[39;00m\n\u001b[1;32m----> 2\u001b[0m \u001b[38;5;28;01mfrom\u001b[39;00m\u001b[38;5;250m \u001b[39m\u001b[38;5;21;01mnltk\u001b[39;00m\u001b[38;5;21;01m.\u001b[39;00m\u001b[38;5;21;01msentiment\u001b[39;00m\u001b[38;5;21;01m.\u001b[39;00m\u001b[38;5;21;01mvader\u001b[39;00m\u001b[38;5;250m \u001b[39m\u001b[38;5;28;01mimport\u001b[39;00m SentimentIntensitAnalyzer\n\u001b[0;32m      3\u001b[0m \u001b[38;5;28;01mimport\u001b[39;00m\u001b[38;5;250m \u001b[39m\u001b[38;5;21;01mnltk\u001b[39;00m\n\u001b[0;32m      5\u001b[0m \u001b[38;5;66;03m#Intializing the analyzer\u001b[39;00m\n",
      "\u001b[1;31mImportError\u001b[0m: cannot import name 'SentimentIntensitAnalyzer' from 'nltk.sentiment.vader' (C:\\Users\\atmiya\\AppData\\Local\\Programs\\Python\\Python310\\lib\\site-packages\\nltk\\sentiment\\vader.py)"
     ]
    }
   ],
   "source": [
    "#Continue from the above line of code\n",
    "from nltk.sentiment.vader import SentimentIntensityAnalyzer\n",
    "import nltk\n",
    "\n",
    "#Intializing the analyzer\n",
    "analyzer=SentimentIntensityAnalyzer()\n",
    "#This line creates an object of the class SentimentIntensityAnalyer,\n",
    "#it loads the VADER sentiment lexicon (Dictionary of -7500 words,emojis,emonticons,acronyms)\n",
    "#with pre-assigned sentiment scores.\n",
    "#Sentences\n",
    "sentences=[\n",
    "    \"I love this product! It's amzing.\",\n",
    "    \"This is wrost experince ever.\",\n",
    "    \"This product was okay,not great but not bad either.\"\n",
    "]\n",
    "for text in sentences:\n",
    "    scores=analyzer.polarity_scores(text)\n",
    "    print(text,\"--->\",scores)\n",
    "#It tells whether the review is positive,negative or neutral and also the compound."
   ]
  },
  {
   "cell_type": "code",
   "execution_count": null,
   "id": "836802d0-d60b-46bd-a547-1c399434d705",
   "metadata": {},
   "outputs": [],
   "source": []
  }
 ],
 "metadata": {
  "kernelspec": {
   "display_name": "Python 3 (ipykernel)",
   "language": "python",
   "name": "python3"
  },
  "language_info": {
   "codemirror_mode": {
    "name": "ipython",
    "version": 3
   },
   "file_extension": ".py",
   "mimetype": "text/x-python",
   "name": "python",
   "nbconvert_exporter": "python",
   "pygments_lexer": "ipython3",
   "version": "3.10.2"
  }
 },
 "nbformat": 4,
 "nbformat_minor": 5
}
