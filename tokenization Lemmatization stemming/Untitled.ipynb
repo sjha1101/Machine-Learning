{
 "cells": [
  {
   "cell_type": "code",
   "execution_count": 1,
   "id": "bf3aa7c1-9703-49cd-9684-28496f2af4a0",
   "metadata": {},
   "outputs": [
    {
     "name": "stderr",
     "output_type": "stream",
     "text": [
      "[nltk_data] Downloading package punkt_tab to\n",
      "[nltk_data]     C:\\Users\\atmiya\\AppData\\Roaming\\nltk_data...\n",
      "[nltk_data]   Unzipping tokenizers\\punkt_tab.zip.\n"
     ]
    },
    {
     "data": {
      "text/plain": [
       "True"
      ]
     },
     "execution_count": 1,
     "metadata": {},
     "output_type": "execute_result"
    }
   ],
   "source": [
    "#unit-4\n",
    "#pip install nltk\n",
    "import nltk\n",
    "nltk.download('punkt_tab')\n"
   ]
  },
  {
   "cell_type": "code",
   "execution_count": 4,
   "id": "c64b2b87-dd0d-4e8b-b2e2-d9080a481919",
   "metadata": {},
   "outputs": [
    {
     "name": "stdout",
     "output_type": "stream",
     "text": [
      "Sentence tokenization:  [\"I love NLP.It's fun,isn't it?\"]\n",
      "Sentence tokenization:  [\"I love NLP.It's fun,isn't it?\"]\n"
     ]
    }
   ],
   "source": [
    "#Applying the sentence tokenization on the text\n",
    "from nltk.tokenize import sent_tokenize\n",
    "#Input text\n",
    "text=\"I love NLP.It's fun,isn't it?\"\n",
    "text1=\"I love NLP.It's fun,isn't it?\"#Notice the output\n",
    "#Sentence tokenizing\n",
    "tokenized_sentence=sent_tokenize(text)\n",
    "tokenized_sentence1=sent_tokenize(text1)\n",
    "print(\"Sentence tokenization: \",tokenized_sentence)\n",
    "print(\"Sentence tokenization: \",tokenized_sentence1)"
   ]
  },
  {
   "cell_type": "code",
   "execution_count": 5,
   "id": "8f9e92d6-b6ed-44fa-8de2-f7082998f690",
   "metadata": {},
   "outputs": [
    {
     "name": "stdout",
     "output_type": "stream",
     "text": [
      "Word punctuation tokenization: ['I', 'love', 'NLP', '.', 'It', \"'\", 's', 'fun', ',', 'isn', \"'\", 't', 'it', '?']\n"
     ]
    }
   ],
   "source": [
    "#Applying the punctuation tokenization on the text\n",
    "from nltk.tokenize import wordpunct_tokenize\n",
    "#input text\n",
    "text=\"I love NLP.It's fun,isn't it?\"\n",
    "#word punctuation tokenizing\n",
    "tokenized_wordpunct=wordpunct_tokenize(text)\n",
    "print(\"Word punctuation tokenization:\",tokenized_wordpunct)"
   ]
  },
  {
   "cell_type": "code",
   "execution_count": 9,
   "id": "6f214032-65ba-4edf-9ff8-86a8be0e5fc4",
   "metadata": {},
   "outputs": [
    {
     "data": {
      "application/vnd.jupyter.widget-view+json": {
       "model_id": "4c08418a8f0b49e6bdf67d86b1ac8b01",
       "version_major": 2,
       "version_minor": 0
      },
      "text/plain": [
       "Downloading https://raw.githubusercontent.com/stanfordnlp/stanza-resources/main/resources_1.10.0.json:   0%|  …"
      ]
     },
     "metadata": {},
     "output_type": "display_data"
    },
    {
     "name": "stderr",
     "output_type": "stream",
     "text": [
      "2025-09-04 08:47:52 INFO: Downloaded file to C:\\Users\\atmiya\\stanza_resources\\resources.json\n",
      "2025-09-04 08:47:52 INFO: Downloading default packages for language: en (English) ...\n",
      "2025-09-04 08:47:53 INFO: File exists: C:\\Users\\atmiya\\stanza_resources\\en\\default.zip\n",
      "2025-09-04 08:47:56 INFO: Finished downloading models and saved to C:\\Users\\atmiya\\stanza_resources\n"
     ]
    }
   ],
   "source": [
    "#Lemmatization\n",
    "#pip install stanza\n",
    "import stanza\n",
    "stanza.download('en') #Download english model, one time only"
   ]
  },
  {
   "cell_type": "code",
   "execution_count": 10,
   "id": "67f69d0e-fa8e-4914-8857-732403b927cb",
   "metadata": {},
   "outputs": [
    {
     "name": "stderr",
     "output_type": "stream",
     "text": [
      "2025-09-04 08:53:57 INFO: Checking for updates to resources.json in case models have been updated.  Note: this behavior can be turned off with download_method=None or download_method=DownloadMethod.REUSE_RESOURCES\n"
     ]
    },
    {
     "data": {
      "application/vnd.jupyter.widget-view+json": {
       "model_id": "a62e6853581b4e7cbcd76d5df5e3d589",
       "version_major": 2,
       "version_minor": 0
      },
      "text/plain": [
       "Downloading https://raw.githubusercontent.com/stanfordnlp/stanza-resources/main/resources_1.10.0.json:   0%|  …"
      ]
     },
     "metadata": {},
     "output_type": "display_data"
    },
    {
     "name": "stderr",
     "output_type": "stream",
     "text": [
      "2025-09-04 08:53:58 INFO: Downloaded file to C:\\Users\\atmiya\\stanza_resources\\resources.json\n",
      "2025-09-04 08:53:58 INFO: Loading these models for language: en (English):\n",
      "=================================\n",
      "| Processor | Package           |\n",
      "---------------------------------\n",
      "| tokenize  | combined          |\n",
      "| mwt       | combined          |\n",
      "| pos       | combined_charlm   |\n",
      "| lemma     | combined_nocharlm |\n",
      "=================================\n",
      "\n",
      "2025-09-04 08:53:58 INFO: Using device: cpu\n",
      "2025-09-04 08:53:58 INFO: Loading: tokenize\n",
      "2025-09-04 08:53:59 INFO: Loading: mwt\n",
      "2025-09-04 08:53:59 INFO: Loading: pos\n",
      "2025-09-04 08:54:01 INFO: Loading: lemma\n",
      "2025-09-04 08:54:01 INFO: Done loading processors!\n"
     ]
    },
    {
     "name": "stdout",
     "output_type": "stream",
     "text": [
      "The ---> the\n",
      "children ---> child\n",
      "are ---> be\n",
      "learning ---> learn\n",
      "with ---> with\n",
      "their ---> their\n",
      "toys ---> toy\n",
      "and ---> and\n",
      "games ---> game\n",
      "are ---> be\n",
      "ongoing ---> ongoing\n",
      ". ---> .\n"
     ]
    }
   ],
   "source": [
    "#Lemmatization\n",
    "import stanza\n",
    "nlp=stanza.Pipeline(lang='en',processors='tokenize,mwt,pos,lemma')\n",
    "#tokenize:split the text into words/sentence\n",
    "#pos:part of speech(noun,verb,adjective,etc)\n",
    "#lemma:convert word into base form\n",
    "text=\"The children are learning with their toys and games are ongoing.\"\n",
    "doc=nlp(text)\n",
    "for sentence in doc.sentences:\n",
    "    for word in sentence.words:\n",
    "        print(word.text,'--->',word.lemma)\n",
    "        "
   ]
  },
  {
   "cell_type": "code",
   "execution_count": 12,
   "id": "041b77f4-9327-4f65-8cf9-fdbcb86d97dd",
   "metadata": {},
   "outputs": [
    {
     "name": "stdout",
     "output_type": "stream",
     "text": [
      "Porter Stemmer\n",
      "Studdent ---> studdent\n",
      "Playing ---> play\n",
      "Played ---> play\n",
      "Happiness ---> happi\n",
      "Snowball Stemmer\n",
      "Studdent ---> studdent\n",
      "Playing ---> play\n",
      "Played ---> play\n",
      "Happiness ---> happi\n",
      "Lancaster Stemmer\n",
      "Studdent ---> stud\n",
      "Playing ---> play\n",
      "Played ---> play\n",
      "Happiness ---> happy\n"
     ]
    }
   ],
   "source": [
    "#stemming\n",
    "#All in one\n",
    "from nltk.stem import PorterStemmer,SnowballStemmer,LancasterStemmer\n",
    "#create stemmer object\n",
    "porter=PorterStemmer()\n",
    "snowball=SnowballStemmer(\"english\")#It is working on multiple languages so, need to clarify the language\n",
    "lancaster=LancasterStemmer()\n",
    "words=[\"Studdent\",\"Playing\",\"Played\",\"Happiness\"]\n",
    "print('Porter Stemmer')\n",
    "for w in words:\n",
    "    print(w,'--->',porter.stem(w))\n",
    "\n",
    "print('Snowball Stemmer')\n",
    "for w in words:\n",
    "    print(w,'--->',snowball.stem(w))\n",
    "\n",
    "print('Lancaster Stemmer')\n",
    "for w in words:\n",
    "    print(w,'--->',lancaster.stem(w))\n"
   ]
  },
  {
   "cell_type": "code",
   "execution_count": null,
   "id": "bc90aed5-2ebb-4806-b246-a98db0265bbf",
   "metadata": {},
   "outputs": [],
   "source": []
  }
 ],
 "metadata": {
  "kernelspec": {
   "display_name": "Python 3 (ipykernel)",
   "language": "python",
   "name": "python3"
  },
  "language_info": {
   "codemirror_mode": {
    "name": "ipython",
    "version": 3
   },
   "file_extension": ".py",
   "mimetype": "text/x-python",
   "name": "python",
   "nbconvert_exporter": "python",
   "pygments_lexer": "ipython3",
   "version": "3.10.2"
  }
 },
 "nbformat": 4,
 "nbformat_minor": 5
}
