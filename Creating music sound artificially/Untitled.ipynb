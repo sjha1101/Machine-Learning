{
 "cells": [
  {
   "cell_type": "code",
   "execution_count": null,
   "id": "eaaa0d9b-f9c1-435c-a50a-fd753ecb8bd1",
   "metadata": {},
   "outputs": [],
   "source": [
    "# Creating music/sound artificially\n",
    "# Synthesizing the music/sound\n",
    "# pip install sounddevice\n",
    "import numpy as np\n",
    "import sounddevice as sd\n",
    "\n",
    "# Sampling rate (sample per second)\n",
    "sr = 44100  # Higher the sampling rate, better the sound will be\n",
    "\n",
    "# Duration of the sound\n",
    "duration = 2.0  # The music will last for 2 seconds\n",
    "\n",
    "# Frequency of the music\n",
    "freq = 520  # Frequency = number of cycles (vibrations)/second. It is measured in Hertz (Hz)\n",
    "\n",
    "# Generate the time axis\n",
    "# Creates a time array from 0 to 2 seconds\n",
    "# int(sr*duration) = 44100 * 2 = 88200 points\n",
    "# Each point represents a tiny slice of the time (example: 0.0001s, 0.0002s ... upto 2 seconds)\n",
    "# endpoint=False ensures the music stops just before the duration (2 seconds)\n",
    "t = np.linspace(0, duration, int(sr * duration), endpoint=False)\n",
    "\n",
    "# Generate sine wave\n",
    "# np.sin(...) generates a sine wave (values go between -1 and +1)\n",
    "# 2*np.pi converts frequency into radians (radians is a technical term used for sound)\n",
    "# freq*t = number of cycles per second\n",
    "y = 0.5 * np.sin(2 * np.pi * freq * t)\n",
    "\n",
    "# play the sound\n",
    "sd.play(y, sr)\n",
    "sd.wait()\n"
   ]
  },
  {
   "cell_type": "code",
   "execution_count": 8,
   "id": "be502ed7-3c85-4a60-9744-222e877dd52a",
   "metadata": {},
   "outputs": [
    {
     "ename": "ModuleNotFoundError",
     "evalue": "No module named 'speech_recognition'",
     "output_type": "error",
     "traceback": [
      "\u001b[1;31m---------------------------------------------------------------------------\u001b[0m",
      "\u001b[1;31mModuleNotFoundError\u001b[0m                       Traceback (most recent call last)",
      "Cell \u001b[1;32mIn[8], line 5\u001b[0m\n\u001b[0;32m      1\u001b[0m \u001b[38;5;66;03m# Speech/Audio to text\u001b[39;00m\n\u001b[0;32m      2\u001b[0m \u001b[38;5;66;03m# pip install SpeechRecognition\u001b[39;00m\n\u001b[0;32m      3\u001b[0m \u001b[38;5;66;03m# pip install pyaudio\u001b[39;00m\n\u001b[1;32m----> 5\u001b[0m \u001b[38;5;28;01mimport\u001b[39;00m\u001b[38;5;250m \u001b[39m\u001b[38;5;21;01mspeech_recognition\u001b[39;00m\u001b[38;5;250m \u001b[39m\u001b[38;5;28;01mas\u001b[39;00m\u001b[38;5;250m \u001b[39m\u001b[38;5;21;01msr\u001b[39;00m\n\u001b[0;32m      7\u001b[0m \u001b[38;5;66;03m# initializing the recognizer\u001b[39;00m\n\u001b[0;32m      8\u001b[0m recognizer \u001b[38;5;241m=\u001b[39m sr\u001b[38;5;241m.\u001b[39mRecognizer()\n",
      "\u001b[1;31mModuleNotFoundError\u001b[0m: No module named 'speech_recognition'"
     ]
    }
   ],
   "source": [
    "# Speech/Audio to text\n",
    "# pip install SpeechRecognition\n",
    "# pip install pyaudio\n",
    "\n",
    "import speech_recognition as sr\n",
    "\n",
    "# initializing the recognizer\n",
    "recognizer = sr.Recognizer()\n",
    "\n",
    "# Using the microphone as a source\n",
    "with sr.Microphone() as source:\n",
    "    print(\"Please say something:\")\n",
    "    audio = recognizer.listen(source)\n",
    "\n",
    "# Convert the speech to text\n",
    "text = recognizer.recognize_google(audio)\n",
    "print(\"You said:\", text)\n"
   ]
  },
  {
   "cell_type": "code",
   "execution_count": null,
   "id": "423cb1c0-095a-4cb0-ba53-323fde29b23e",
   "metadata": {},
   "outputs": [],
   "source": []
  }
 ],
 "metadata": {
  "kernelspec": {
   "display_name": "Python 3 (ipykernel)",
   "language": "python",
   "name": "python3"
  },
  "language_info": {
   "codemirror_mode": {
    "name": "ipython",
    "version": 3
   },
   "file_extension": ".py",
   "mimetype": "text/x-python",
   "name": "python",
   "nbconvert_exporter": "python",
   "pygments_lexer": "ipython3",
   "version": "3.10.2"
  }
 },
 "nbformat": 4,
 "nbformat_minor": 5
}
